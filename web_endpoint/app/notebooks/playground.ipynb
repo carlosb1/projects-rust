{
 "cells": [
  {
   "cell_type": "code",
   "execution_count": 6,
   "metadata": {},
   "outputs": [],
   "source": [
    "pub struct UsersRepository;"
   ]
  },
  {
   "cell_type": "code",
   "execution_count": 7,
   "metadata": {},
   "outputs": [],
   "source": [
    "pub struct User;"
   ]
  },
  {
   "cell_type": "code",
   "execution_count": 11,
   "metadata": {},
   "outputs": [],
   "source": [
    "impl UsersRepository {\n",
    "    pub fn create (self, user: User)  {   \n",
    "    }\n",
    "    pub fn get (self, id: String) -> User  {\n",
    "        User {}\n",
    "    }\n",
    "}"
   ]
  },
  {
   "cell_type": "code",
   "execution_count": 12,
   "metadata": {},
   "outputs": [
    {
     "ename": "Error",
     "evalue": "expected one of `!`, `.`, `::`, `;`, `?`, `{`, `}`, or an operator, found `install`",
     "output_type": "error",
     "traceback": [
      "!cargo install  mongodb bson",
      "\u001b[91m       ^^^^^^^\u001b[0m \u001b[94mexpected one of 8 possible tokens\u001b[0m",
      "expected one of `!`, `.`, `::`, `;`, `?`, `{`, `}`, or an operator, found `install`"
     ]
    }
   ],
   "source": [
    "!cargo install  mongodb bson"
   ]
  },
  {
   "cell_type": "code",
   "execution_count": 13,
   "metadata": {},
   "outputs": [
    {
     "ename": "Error",
     "evalue": "expected one of `!`, `.`, `::`, `;`, `?`, `{`, `}`, or an operator, found `install`",
     "output_type": "error",
     "traceback": [
      "!cargo install mongodb",
      "\u001b[91m       ^^^^^^^\u001b[0m \u001b[94mexpected one of 8 possible tokens\u001b[0m",
      "expected one of `!`, `.`, `::`, `;`, `?`, `{`, `}`, or an operator, found `install`"
     ]
    }
   ],
   "source": [
    "!cargo install mongodb"
   ]
  },
  {
   "cell_type": "code",
   "execution_count": 14,
   "metadata": {},
   "outputs": [
    {
     "ename": "Error",
     "evalue": "cannot find value `ks` in this scope",
     "output_type": "error",
     "traceback": [
      "!ks",
      "\u001b[91m ^^\u001b[0m \u001b[94mnot found in this scope\u001b[0m",
      "cannot find value `ks` in this scope"
     ]
    }
   ],
   "source": [
    "!ks"
   ]
  },
  {
   "cell_type": "code",
   "execution_count": 15,
   "metadata": {},
   "outputs": [
    {
     "ename": "Error",
     "evalue": "cannot find value `ls` in this scope",
     "output_type": "error",
     "traceback": [
      "!ls",
      "\u001b[91m ^^\u001b[0m \u001b[94mnot found in this scope\u001b[0m",
      "cannot find value `ls` in this scope"
     ]
    }
   ],
   "source": [
    "!ls"
   ]
  },
  {
   "cell_type": "code",
   "execution_count": null,
   "metadata": {},
   "outputs": [],
   "source": []
  }
 ],
 "metadata": {
  "kernelspec": {
   "display_name": "Rust",
   "language": "rust",
   "name": "rust"
  },
  "language_info": {
   "codemirror_mode": "rust",
   "file_extension": ".rs",
   "mimetype": "text/rust",
   "name": "Rust",
   "pygment_lexer": "rust",
   "version": ""
  }
 },
 "nbformat": 4,
 "nbformat_minor": 2
}
