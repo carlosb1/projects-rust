{
 "cells": [
  {
   "cell_type": "code",
   "execution_count": 1,
   "metadata": {
    "colab": {
     "base_uri": "https://localhost:8080/",
     "height": 124
    },
    "colab_type": "code",
    "id": "GSPiTKCSGw_d",
    "outputId": "24a8bd36-8006-46c0-da83-a245b19769e9"
   },
   "outputs": [
    {
     "name": "stdout",
     "output_type": "stream",
     "text": [
      "Go to this URL in a browser: https://accounts.google.com/o/oauth2/auth?client_id=947318989803-6bn6qk8qdgf4n4g3pfee6491hc0brc4i.apps.googleusercontent.com&redirect_uri=urn%3Aietf%3Awg%3Aoauth%3A2.0%3Aoob&scope=email%20https%3A%2F%2Fwww.googleapis.com%2Fauth%2Fdocs.test%20https%3A%2F%2Fwww.googleapis.com%2Fauth%2Fdrive%20https%3A%2F%2Fwww.googleapis.com%2Fauth%2Fdrive.photos.readonly%20https%3A%2F%2Fwww.googleapis.com%2Fauth%2Fpeopleapi.readonly&response_type=code\n",
      "\n",
      "Enter your authorization code:\n",
      "··········\n",
      "Mounted at /content/drive\n"
     ]
    }
   ],
   "source": [
    "# if you wanna mount your own google drive\n",
    "from google.colab import drive\n",
    "drive.mount('/content/drive') \n"
   ]
  },
  {
   "cell_type": "code",
   "execution_count": 3,
   "metadata": {
    "colab": {
     "base_uri": "https://localhost:8080/",
     "height": 86
    },
    "colab_type": "code",
    "id": "-wT6NI1xIiyx",
    "outputId": "34983294-a0f3-485c-fed1-10dd8103babb"
   },
   "outputs": [
    {
     "name": "stdout",
     "output_type": "stream",
     "text": [
      "Copy authtoken from https://dashboard.ngrok.com/auth\n",
      "··········\n",
      "Root password: olakase\n",
      "tcp://0.tcp.ngrok.io:12786\n"
     ]
    }
   ],
   "source": [
    "#Generate root password\n",
    "import random, string\n",
    "password =\"olakase\" #set password \n",
    "\n",
    "#''.join(random.choice(string.ascii_letters + string.digits) for i in range(20))\n",
    "\n",
    "#Download ngrok\n",
    "! wget -q -c -nc https://bin.equinox.io/c/4VmDzA7iaHb/ngrok-stable-linux-amd64.zip\n",
    "! unzip -qq -n ngrok-stable-linux-amd64.zip\n",
    "#Setup sshd\n",
    "! apt-get install -qq -o=Dpkg::Use-Pty=0 openssh-server pwgen > /dev/null\n",
    "#Set root password\n",
    "! echo root:$password | chpasswd\n",
    "! mkdir -p /var/run/sshd\n",
    "! echo \"PermitRootLogin yes\" >> /etc/ssh/sshd_config\n",
    "! echo \"PasswordAuthentication yes\" >> /etc/ssh/sshd_config\n",
    "! echo \"LD_LIBRARY_PATH=/usr/lib64-nvidia\" >> /root/.bashrc\n",
    "! echo \"export LD_LIBRARY_PATH\" >> /root/.bashrc\n",
    "! echo \"ClientAliveInterval 240\" >> /etc/ssh/sshd_config\n",
    "! echo \"ClientAliveCountMax 720\" >> /etc/ssh/sshd_config\n",
    "\n",
    "#Run sshd\n",
    "get_ipython().system_raw('/usr/sbin/sshd -D &')\n",
    "\n",
    "#Ask token\n",
    "print(\"Copy authtoken from https://dashboard.ngrok.com/auth\")\n",
    "import getpass\n",
    "authtoken = getpass.getpass()\n",
    "\n",
    "#Create tunnel\n",
    "get_ipython().system_raw('./ngrok authtoken $authtoken && ./ngrok tcp 22 &')\n",
    "#Print root password\n",
    "print(\"Root password: {}\".format(password))\n",
    "#Get public address\n",
    "! curl -s http://localhost:4040/api/tunnels | python3 -c \\\n",
    "    \"import sys, json; print(json.load(sys.stdin)['tunnels'][0]['public_url'])\""
   ]
  },
  {
   "cell_type": "code",
   "execution_count": 4,
   "metadata": {
    "colab": {
     "base_uri": "https://localhost:8080/",
     "height": 402
    },
    "colab_type": "code",
    "id": "Ykk6A6LKP8oS",
    "outputId": "2dd25293-31fc-4b84-917f-389874a12144"
   },
   "outputs": [
    {
     "name": "stdout",
     "output_type": "stream",
     "text": [
      "Collecting ipdb\n",
      "  Downloading https://files.pythonhosted.org/packages/6d/43/c3c2e866a8803e196d6209595020a4a6db1a3c5d07c01455669497ae23d0/ipdb-0.12.tar.gz\n",
      "Requirement already satisfied: setuptools in /usr/local/lib/python3.6/dist-packages (from ipdb) (41.0.1)\n",
      "Requirement already satisfied: ipython>=5.1.0 in /usr/local/lib/python3.6/dist-packages (from ipdb) (5.5.0)\n",
      "Requirement already satisfied: traitlets>=4.2 in /usr/local/lib/python3.6/dist-packages (from ipython>=5.1.0->ipdb) (4.3.2)\n",
      "Requirement already satisfied: decorator in /usr/local/lib/python3.6/dist-packages (from ipython>=5.1.0->ipdb) (4.4.0)\n",
      "Requirement already satisfied: prompt-toolkit<2.0.0,>=1.0.4 in /usr/local/lib/python3.6/dist-packages (from ipython>=5.1.0->ipdb) (1.0.16)\n",
      "Requirement already satisfied: simplegeneric>0.8 in /usr/local/lib/python3.6/dist-packages (from ipython>=5.1.0->ipdb) (0.8.1)\n",
      "Requirement already satisfied: pexpect; sys_platform != \"win32\" in /usr/local/lib/python3.6/dist-packages (from ipython>=5.1.0->ipdb) (4.7.0)\n",
      "Requirement already satisfied: pickleshare in /usr/local/lib/python3.6/dist-packages (from ipython>=5.1.0->ipdb) (0.7.5)\n",
      "Requirement already satisfied: pygments in /usr/local/lib/python3.6/dist-packages (from ipython>=5.1.0->ipdb) (2.1.3)\n",
      "Requirement already satisfied: ipython-genutils in /usr/local/lib/python3.6/dist-packages (from traitlets>=4.2->ipython>=5.1.0->ipdb) (0.2.0)\n",
      "Requirement already satisfied: six in /usr/local/lib/python3.6/dist-packages (from traitlets>=4.2->ipython>=5.1.0->ipdb) (1.12.0)\n",
      "Requirement already satisfied: wcwidth in /usr/local/lib/python3.6/dist-packages (from prompt-toolkit<2.0.0,>=1.0.4->ipython>=5.1.0->ipdb) (0.1.7)\n",
      "Requirement already satisfied: ptyprocess>=0.5 in /usr/local/lib/python3.6/dist-packages (from pexpect; sys_platform != \"win32\"->ipython>=5.1.0->ipdb) (0.6.0)\n",
      "Building wheels for collected packages: ipdb\n",
      "  Building wheel for ipdb (setup.py) ... \u001b[?25l\u001b[?25hdone\n",
      "  Stored in directory: /root/.cache/pip/wheels/59/24/91/695211bd228d40fb22dff0ce3f05ba41ab724ab771736233f3\n",
      "Successfully built ipdb\n",
      "Installing collected packages: ipdb\n",
      "Successfully installed ipdb-0.12\n"
     ]
    }
   ],
   "source": [
    "!pip install ipdb"
   ]
  },
  {
   "cell_type": "code",
   "execution_count": 5,
   "metadata": {
    "colab": {
     "base_uri": "https://localhost:8080/",
     "height": 1114
    },
    "colab_type": "code",
    "id": "wli8BwaIdkSA",
    "outputId": "6a4829fc-ef52-4f72-b4e4-329b83662d34"
   },
   "outputs": [
    {
     "name": "stdout",
     "output_type": "stream",
     "text": [
      "Reading package lists... Done\n",
      "Building dependency tree       \n",
      "Reading state information... Done\n",
      "git is already the newest version (1:2.17.1-1ubuntu0.4).\n",
      "The following package was automatically installed and is no longer required:\n",
      "  libnvidia-common-410\n",
      "Use 'apt autoremove' to remove it.\n",
      "The following additional packages will be installed:\n",
      "  libgpm2 vim-common vim-runtime xxd\n",
      "Suggested packages:\n",
      "  strace gpm ctags vim-doc vim-scripts\n",
      "The following NEW packages will be installed:\n",
      "  htop libgpm2 vim vim-common vim-runtime xxd\n",
      "0 upgraded, 6 newly installed, 0 to remove and 6 not upgraded.\n",
      "Need to get 6,804 kB of archives.\n",
      "After this operation, 32.8 MB of additional disk space will be used.\n",
      "Get:1 http://archive.ubuntu.com/ubuntu bionic/main amd64 xxd amd64 2:8.0.1453-1ubuntu1 [49.2 kB]\n",
      "Get:2 http://archive.ubuntu.com/ubuntu bionic/main amd64 vim-common all 2:8.0.1453-1ubuntu1 [70.4 kB]\n",
      "Get:3 http://archive.ubuntu.com/ubuntu bionic/main amd64 htop amd64 2.1.0-3 [80.0 kB]\n",
      "Get:4 http://archive.ubuntu.com/ubuntu bionic/main amd64 libgpm2 amd64 1.20.7-5 [15.1 kB]\n",
      "Get:5 http://archive.ubuntu.com/ubuntu bionic/main amd64 vim-runtime all 2:8.0.1453-1ubuntu1 [5,437 kB]\n",
      "Get:6 http://archive.ubuntu.com/ubuntu bionic/main amd64 vim amd64 2:8.0.1453-1ubuntu1 [1,152 kB]\n",
      "Fetched 6,804 kB in 2s (3,835 kB/s)\n",
      "Selecting previously unselected package xxd.\n",
      "(Reading database ... 130916 files and directories currently installed.)\n",
      "Preparing to unpack .../0-xxd_2%3a8.0.1453-1ubuntu1_amd64.deb ...\n",
      "Unpacking xxd (2:8.0.1453-1ubuntu1) ...\n",
      "Selecting previously unselected package vim-common.\n",
      "Preparing to unpack .../1-vim-common_2%3a8.0.1453-1ubuntu1_all.deb ...\n",
      "Unpacking vim-common (2:8.0.1453-1ubuntu1) ...\n",
      "Selecting previously unselected package htop.\n",
      "Preparing to unpack .../2-htop_2.1.0-3_amd64.deb ...\n",
      "Unpacking htop (2.1.0-3) ...\n",
      "Selecting previously unselected package libgpm2:amd64.\n",
      "Preparing to unpack .../3-libgpm2_1.20.7-5_amd64.deb ...\n",
      "Unpacking libgpm2:amd64 (1.20.7-5) ...\n",
      "Selecting previously unselected package vim-runtime.\n",
      "Preparing to unpack .../4-vim-runtime_2%3a8.0.1453-1ubuntu1_all.deb ...\n",
      "Adding 'diversion of /usr/share/vim/vim80/doc/help.txt to /usr/share/vim/vim80/doc/help.txt.vim-tiny by vim-runtime'\n",
      "Adding 'diversion of /usr/share/vim/vim80/doc/tags to /usr/share/vim/vim80/doc/tags.vim-tiny by vim-runtime'\n",
      "Unpacking vim-runtime (2:8.0.1453-1ubuntu1) ...\n",
      "Selecting previously unselected package vim.\n",
      "Preparing to unpack .../5-vim_2%3a8.0.1453-1ubuntu1_amd64.deb ...\n",
      "Unpacking vim (2:8.0.1453-1ubuntu1) ...\n",
      "Processing triggers for mime-support (3.60ubuntu1) ...\n",
      "Setting up xxd (2:8.0.1453-1ubuntu1) ...\n",
      "Setting up libgpm2:amd64 (1.20.7-5) ...\n",
      "Processing triggers for libc-bin (2.27-3ubuntu1) ...\n",
      "Setting up vim-common (2:8.0.1453-1ubuntu1) ...\n",
      "Processing triggers for man-db (2.8.3-2ubuntu0.1) ...\n",
      "Setting up vim-runtime (2:8.0.1453-1ubuntu1) ...\n",
      "Setting up htop (2.1.0-3) ...\n",
      "Processing triggers for hicolor-icon-theme (0.17-2) ...\n",
      "Setting up vim (2:8.0.1453-1ubuntu1) ...\n",
      "update-alternatives: using /usr/bin/vim.basic to provide /usr/bin/vim (vim) in auto mode\n",
      "update-alternatives: using /usr/bin/vim.basic to provide /usr/bin/vimdiff (vimdiff) in auto mode\n",
      "update-alternatives: using /usr/bin/vim.basic to provide /usr/bin/rvim (rvim) in auto mode\n",
      "update-alternatives: using /usr/bin/vim.basic to provide /usr/bin/rview (rview) in auto mode\n",
      "update-alternatives: using /usr/bin/vim.basic to provide /usr/bin/vi (vi) in auto mode\n",
      "update-alternatives: using /usr/bin/vim.basic to provide /usr/bin/view (view) in auto mode\n",
      "update-alternatives: using /usr/bin/vim.basic to provide /usr/bin/ex (ex) in auto mode\n",
      "update-alternatives: using /usr/bin/vim.basic to provide /usr/bin/editor (editor) in auto mode\n"
     ]
    }
   ],
   "source": [
    "!apt-get install git vim htop"
   ]
  },
  {
   "cell_type": "code",
   "execution_count": 0,
   "metadata": {
    "colab": {
     "base_uri": "https://localhost:8080/",
     "height": 34
    },
    "colab_type": "code",
    "id": "4tCu36nPH0m0",
    "outputId": "e7ac17d4-a531-4e3b-fe04-d76bf40e3c93"
   },
   "outputs": [
    {
     "name": "stdout",
     "output_type": "stream",
     "text": [
      "[Errno 2] No such file or directory: '/content/drive/My Drive/Colab Notebooks/practica_aidl'\n",
      "/home/carlosb/Desktop/pruebas_master/scripts\n"
     ]
    }
   ],
   "source": [
    "%cd \"/content/drive/My Drive/Colab Notebooks/practica_aidl\"\n"
   ]
  },
  {
   "cell_type": "code",
   "execution_count": 0,
   "metadata": {
    "colab": {},
    "colab_type": "code",
    "id": "CBNR__Q_4Pty"
   },
   "outputs": [],
   "source": [
    "%load_ext tensorboard.notebook\n",
    "%tensorboard --logdir '/content/drive/My Drive/kaggle/face_kindship_recognition/output_logs'"
   ]
  }
 ],
 "metadata": {
  "accelerator": "GPU",
  "colab": {
   "collapsed_sections": [],
   "name": "train.ipynb",
   "provenance": [],
   "version": "0.3.2"
  },
  "kernelspec": {
   "display_name": "Python 3",
   "language": "python",
   "name": "python3"
  },
  "language_info": {
   "codemirror_mode": {
    "name": "ipython",
    "version": 3
   },
   "file_extension": ".py",
   "mimetype": "text/x-python",
   "name": "python",
   "nbconvert_exporter": "python",
   "pygments_lexer": "ipython3",
   "version": "3.7.3"
  }
 },
 "nbformat": 4,
 "nbformat_minor": 1
}
