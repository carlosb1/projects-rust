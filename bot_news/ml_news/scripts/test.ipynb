{
 "cells": [
  {
   "cell_type": "code",
   "execution_count": 33,
   "metadata": {},
   "outputs": [
    {
     "name": "stdout",
     "output_type": "stream",
     "text": [
      "Requirement already satisfied: pandas in /home/carlosb/miniconda3/envs/bot_news_py38/lib/python3.8/site-packages (1.0.3)\n",
      "Requirement already satisfied: python-dateutil>=2.6.1 in /home/carlosb/miniconda3/envs/bot_news_py38/lib/python3.8/site-packages (from pandas) (2.8.1)\n",
      "Requirement already satisfied: pytz>=2017.2 in /home/carlosb/miniconda3/envs/bot_news_py38/lib/python3.8/site-packages (from pandas) (2020.1)\n",
      "Requirement already satisfied: numpy>=1.13.3 in /home/carlosb/miniconda3/envs/bot_news_py38/lib/python3.8/site-packages (from pandas) (1.18.4)\n",
      "Requirement already satisfied: six>=1.5 in /home/carlosb/miniconda3/envs/bot_news_py38/lib/python3.8/site-packages (from python-dateutil>=2.6.1->pandas) (1.14.0)\n",
      "Collecting html5lib\n",
      "  Downloading html5lib-1.0.1-py2.py3-none-any.whl (117 kB)\n",
      "\u001b[K     |████████████████████████████████| 117 kB 1.7 MB/s eta 0:00:01\n",
      "\u001b[?25hRequirement already satisfied: six>=1.9 in /home/carlosb/miniconda3/envs/bot_news_py38/lib/python3.8/site-packages (from html5lib) (1.14.0)\n",
      "Requirement already satisfied: webencodings in /home/carlosb/miniconda3/envs/bot_news_py38/lib/python3.8/site-packages (from html5lib) (0.5.1)\n",
      "Installing collected packages: html5lib\n",
      "Successfully installed html5lib-1.0.1\n"
     ]
    }
   ],
   "source": [
    "!pip install pandas\n",
    "!pip install html5lib"
   ]
  },
  {
   "cell_type": "code",
   "execution_count": 7,
   "metadata": {},
   "outputs": [],
   "source": [
    "import pandas as pd\n",
    "import numpy as np\n",
    "from bs4 import BeautifulSoup\n",
    "\n",
    "import html5lib\n",
    "import lxml"
   ]
  },
  {
   "cell_type": "code",
   "execution_count": 8,
   "metadata": {
    "scrolled": true
   },
   "outputs": [],
   "source": [
    "f = open('./835633c63bba16037f7f93b26cdf0821')\n",
    "html = f.read()"
   ]
  },
  {
   "cell_type": "code",
   "execution_count": 9,
   "metadata": {},
   "outputs": [],
   "source": [
    "soup = BeautifulSoup(html)\n",
    "[s.extract() for s in soup(['style', 'script', '[document]', 'head', 'title'])]\n",
    "visible_text = soup.getText()"
   ]
  },
  {
   "cell_type": "code",
   "execution_count": 10,
   "metadata": {},
   "outputs": [
    {
     "data": {
      "text/plain": [
       "' \\n\\n\\n\\n\\n\\n\\n\\n\\n\\n\\n\\n\\n\\n\\n\\n\\n\\n\\n\\n\\n\\n\\n\\n\\n\\n\\nHoy interesa\\n\\nCarnes\\n\\n\\nCereales\\n\\n\\nFrutas\\n\\n\\nFrutos secos\\n\\n\\nLegumbres\\n\\n\\nPescados\\n\\n\\nTubérculos\\n\\n\\nVerduras\\n\\n\\n\\n\\n\\nMas\\n            \\n\\n\\n\\n\\n\\n\\n\\n\\n\\n\\n\\n\\n\\n\\n\\n\\n\\nSecciones\\n\\n\\n\\nAl Minuto\\n\\n\\nInternacional\\n\\n\\nPolítica\\n\\n\\nVida\\n\\n\\nDeportes\\n\\n\\nEconomía\\n\\n\\nOpinión\\n\\n\\nGente\\n\\n\\nCultura\\n\\n\\nSucesos\\n\\n\\nParticipación\\n\\n\\nBlogs\\n\\n\\nRCD Espanyol\\n\\n\\nEuropa Fact Checking\\n\\n\\nSuscriptores\\n\\n\\nTemas\\n\\n\\n\\n\\n\\nCanales\\n\\n\\n\\nLa Contra\\n\\n\\nNatural\\n\\n\\nBig Vang\\n\\n\\nSalud\\n\\n\\nTecnología\\n\\n\\nTelevisión\\n\\n\\nSeries\\n\\n\\nMuy Fan\\n\\n\\nCribeo\\n\\n\\nMagazine Lifestyle\\n\\n\\nViajes\\n\\n\\nVivo\\n\\n\\nMotor\\n\\n\\nDe Moda\\n\\n\\nComer\\n\\n\\nVivo Seguro\\n\\n\\nCanal Andorra\\n\\n\\nEl Comprador\\n\\n\\nHistoria y Vida\\n\\n\\n\\n\\n\\nEdiciones locales\\n\\n\\n\\nMadrid\\n\\n\\nBarcelona\\n\\n\\nCatalunya\\n\\n\\nAndalucía\\n\\n\\nComunidad Valenciana\\n\\n\\nPaís Vasco\\n\\n\\nVer más\\n\\n\\n\\n\\n\\nSuplementos\\n\\n\\n\\nCultura|S\\n\\n\\nVanguardia Dossier\\n\\n\\nVanguardia Grandes Temas\\n\\n\\nLibros de Vanguardia\\n\\n\\nClasificados\\n\\n\\nMonográficos\\n\\n\\nCanal Relojes\\n\\n\\n\\n\\n\\nServicios\\n\\n\\n\\n\\n\\nEdició en català\\n\\n\\nEdición Impresa\\n\\n\\nHemeroteca\\n\\n\\nBolsa\\n\\n\\nProgramación TV\\n\\n\\nLoterías\\n\\n\\nHoróscopo\\n\\n\\nJuegos\\n\\n\\n\\n\\n\\n\\nCartelera\\n\\n\\nAgenda\\n\\n\\nJunior Report\\n\\n\\nRSS\\n\\n\\nNecrológicas y esquelas\\n\\n\\nGourmet La Vanguardia\\n\\n\\nLV Shopping\\n\\n\\nEntradas de Vanguardia\\n\\n\\nPistas de esquí\\n\\n\\n\\n\\n\\n\\n\\n\\n\\n\\n\\n\\n\\nheader_logo_text\\n\\n\\n\\n\\n\\n\\n\\n\\n\\n\\n\\n\\n\\n\\n\\n\\n\\n\\n\\n\\n\\n\\n\\n\\n\\n\\n\\n\\n\\n\\n\\n\\n\\n\\n\\n\\n\\n\\n\\nAl día\\n\\n\\nOpinión\\n\\n\\nsitios\\n\\n\\ntendencias\\n\\n\\nMateria Prima\\n\\n\\nrecetas\\n\\n\\nde carne y hueso\\n\\n\\nvideos\\n\\n\\n\\n\\n\\n\\n\\n\\n\\n\\n\\n\\n\\n\\n\\n\\n\\n\\n\\n\\n\\n\\n\\n\\n\\n\\nRecetas\\n\\n\\nPreparar este irresistible sándwich cubanito es ‘Así de fácil’\\n\\n\\nUn plato sencillo pero muy apetitoso\\nPreparar esta apetitosa tarta de fresas es ‘Así de fácil’\\n\\n\\n\\n\\n\\n\\n\\n Video\\n            \\n\\n\\n\\n\\n\\n\\n\\n\\n\\n\\n\\n\\n\\n\\n\\n\\n\\n\\n\\nCOMER\\n\\n\\nActualizado a  16/03/2020 10:23\\n\\n\\n\\n\\nEsta semana Eugeni de Diego nos enseña a preparar una receta fácil, sencilla y muy apetitosa. Un sándwich cubanito de primera calidad con el que conseguirás sorprender a cualquier afortunado que lo pruebe. ¿Quieres saber cómo? Sigue la receta que encontrarás a continuación.\\n\\nCubanito\\nIngredientes> 200 g de carne de cerdo\\n> sal y pimientare\\n> 1  naranja \\nde zumo\\n> 50 g aceite de oliva\\n> 1 barra de pan tipo baguette o viena\\n> 80 g queso suizo\\n> 70 g jamón York\\n> 30 g pepinillo encurtido\\n> 20 g mostaza Savora\\n> Mantequilla\\n\\nLa receta\\nElaboración\\n\\n\\n\\n\\n1. Disponer la carne en una bandeja, salpimentar.\\n2. Exprimir zumo de naranja sobre la carne.\\n3. Rociar la carne con aceite de oliva. Hornear durante 1 hora a 180 º C.\\n4. Cortar la carne en trozos delgados.\\n5. Cortar la baguette a la mitad, en una de las mitades disponer el queso, los trozos de carne, el jamón york y los pepinillos.\\n6. En la otra mitad de la baguette, disponer la mostaza a gusto y cerrar el bocadillo.\\n7. Calentar la plancha. Cubrir con mantequilla y planchar el bocadillo.\\n8. Cortar el bocadillo por la mitad y servir.\\n\\n\\n\\n\\n\\n\\n\\n\\n\\n\\n\\n\\n\\n\\n\\n\\n\\nAl minuto\\nCoronavirus en Gijón: Última hora de los afectados y de la desescalada en Asturias\\nTrump se muestra “contento” por la vuelta de  Kim Jong un, a quien ve “bien”\\nTer Stegen: “Estoy muy feliz en Barcelona”\\nArrimadas llama a que el coronavirus “no sea una oportunidad para el nacionalismo”\\nLos fallecidos en 24 horas descienden hasta 164 en España\\n¿Qué tipo de mascarilla necesito según mi situación?\\n\\n\\n\\n\\n\\n\\nLeer comentarios\\n\\n\\n{\"collectionMeta\":\"eyJ0eXAiOiJKV1QiLCJhbGciOiJIUzI1NiJ9.eyJ0eXBlIjoibGl2ZWNvbW1lbnRzIiwiYXJ0aWNsZUlkIjoiMmMwMTdkMDgtNjUxNS0xMWVhLTgwNGItMTdkYzQwMjc2MWViIiwidGl0bGUiOiJQcmVwYXJhciBlc3RlIGlycmVzaXN0aWJsZSBzXHUwMGUxbmR3aWNoIGN1YmFuaXRvIGVzIFx1MjAxOEFzXHUwMGVkIGRlIGZcdTAwZTFjaWxcdTIwMTkiLCJ1cmwiOiJodHRwczpcL1wvd3d3LmxhdmFuZ3VhcmRpYS5jb21cL2NvbWVyXC9yZWNldGFzXC8yMDIwMDMxNVwvNDc0MTA3MjgyMzkxXC9zYW5kd2ljaC1jdWJhbml0by1hc2ktZGUtZmFjaWwtYm9jYWRpbGxvLXNvZmlzdGljYWRvLWV1Z2VuaS5odG1sIiwidGFncyI6WyJzdG9yeSIsIlwvY29tZXIiLCJsYVZhbmd1YXJkaWEiXSwiaXNzIjoidXJuOmxpdmVmeXJlOmdydXBvZ29kbzEuZnlyZS5jbzpzaXRlPTM1MTExMiJ9.xEkF0CqQ--FrYz59MxZlHGupJVV4vBDvEGAuM8rtZT8\",\"checkSum\":\"1dc942fcd45564e702eaf236e36fb286\",\"allowComment\":\"allowed\",\"netId\":\"2c017d08-6515-11ea-804b-17dc402761eb\",\"networkName\":\"grupogodo1.fyre.co\",\"siteId\":351112}\\n\\n\\n\\n\\n\\n\\n\\n\\n\\n\\n\\n\\n\\n\\n\\n\\n\\n\\n\\n\\n\\n\\n\\n\\n\\n\\n\\n\\n\\n\\nComer\\n\\n\\n\\n\\n\\nRecetas\\n\\n\\n\\n\\n\\n\\n\\n\\n\\n\\n\\n\\n\\n\\n\\n\\n\\n\\n© La Vanguardia Ediciones Todos los derechos reservados\\n\\n\\n\\n\\n\\n\\n\\n\\n\\n\\n\\nQuiénes somos\\n\\n\\nContacto\\n\\n\\nAviso legal\\n\\n\\nAyuda\\n\\n\\nPolítica de cookies\\n\\n\\nOtras webs\\n\\n\\nPolítica de privacidad\\n\\n\\nÁrea de privacidad\\n\\n\\n\\n\\n\\n\\n\\n\\n\\n\\n\\n\\n\\n\\n\\n\\n\\n'"
      ]
     },
     "execution_count": 10,
     "metadata": {},
     "output_type": "execute_result"
    }
   ],
   "source": [
    "visible_text"
   ]
  },
  {
   "cell_type": "code",
   "execution_count": 12,
   "metadata": {},
   "outputs": [],
   "source": [
    "## remove links"
   ]
  },
  {
   "cell_type": "code",
   "execution_count": 14,
   "metadata": {},
   "outputs": [],
   "source": [
    "def remove_accented_chars(text):\n",
    "    \"\"\"remove accented characters from text, e.g. café\"\"\"\n",
    "    text = unidecode.unidecode(text)\n",
    "    return text"
   ]
  },
  {
   "cell_type": "code",
   "execution_count": 18,
   "metadata": {},
   "outputs": [
    {
     "name": "stdout",
     "output_type": "stream",
     "text": [
      "Collecting es_core_news_sm==2.2.5\n",
      "  Downloading https://github.com/explosion/spacy-models/releases/download/es_core_news_sm-2.2.5/es_core_news_sm-2.2.5.tar.gz (16.2 MB)\n",
      "\u001b[K     |████████████████████████████████| 16.2 MB 2.9 MB/s eta 0:00:01\n",
      "\u001b[?25hRequirement already satisfied: spacy>=2.2.2 in /home/carlosb/miniconda3/envs/bot_news_py38/lib/python3.8/site-packages (from es_core_news_sm==2.2.5) (2.2.4)\n",
      "Requirement already satisfied: murmurhash<1.1.0,>=0.28.0 in /home/carlosb/miniconda3/envs/bot_news_py38/lib/python3.8/site-packages (from spacy>=2.2.2->es_core_news_sm==2.2.5) (1.0.2)\n",
      "Requirement already satisfied: cymem<2.1.0,>=2.0.2 in /home/carlosb/miniconda3/envs/bot_news_py38/lib/python3.8/site-packages (from spacy>=2.2.2->es_core_news_sm==2.2.5) (2.0.3)\n",
      "Requirement already satisfied: blis<0.5.0,>=0.4.0 in /home/carlosb/miniconda3/envs/bot_news_py38/lib/python3.8/site-packages (from spacy>=2.2.2->es_core_news_sm==2.2.5) (0.4.1)\n",
      "Requirement already satisfied: wasabi<1.1.0,>=0.4.0 in /home/carlosb/miniconda3/envs/bot_news_py38/lib/python3.8/site-packages (from spacy>=2.2.2->es_core_news_sm==2.2.5) (0.6.0)\n",
      "Requirement already satisfied: tqdm<5.0.0,>=4.38.0 in /home/carlosb/miniconda3/envs/bot_news_py38/lib/python3.8/site-packages (from spacy>=2.2.2->es_core_news_sm==2.2.5) (4.45.0)\n",
      "Requirement already satisfied: setuptools in /home/carlosb/miniconda3/envs/bot_news_py38/lib/python3.8/site-packages (from spacy>=2.2.2->es_core_news_sm==2.2.5) (40.6.3)\n",
      "Requirement already satisfied: thinc==7.4.0 in /home/carlosb/miniconda3/envs/bot_news_py38/lib/python3.8/site-packages (from spacy>=2.2.2->es_core_news_sm==2.2.5) (7.4.0)\n",
      "Requirement already satisfied: catalogue<1.1.0,>=0.0.7 in /home/carlosb/miniconda3/envs/bot_news_py38/lib/python3.8/site-packages (from spacy>=2.2.2->es_core_news_sm==2.2.5) (1.0.0)\n",
      "Requirement already satisfied: plac<1.2.0,>=0.9.6 in /home/carlosb/miniconda3/envs/bot_news_py38/lib/python3.8/site-packages (from spacy>=2.2.2->es_core_news_sm==2.2.5) (1.1.3)\n",
      "Requirement already satisfied: numpy>=1.15.0 in /home/carlosb/miniconda3/envs/bot_news_py38/lib/python3.8/site-packages (from spacy>=2.2.2->es_core_news_sm==2.2.5) (1.18.4)\n",
      "Requirement already satisfied: preshed<3.1.0,>=3.0.2 in /home/carlosb/miniconda3/envs/bot_news_py38/lib/python3.8/site-packages (from spacy>=2.2.2->es_core_news_sm==2.2.5) (3.0.2)\n",
      "Requirement already satisfied: requests<3.0.0,>=2.13.0 in /home/carlosb/miniconda3/envs/bot_news_py38/lib/python3.8/site-packages (from spacy>=2.2.2->es_core_news_sm==2.2.5) (2.23.0)\n",
      "Requirement already satisfied: srsly<1.1.0,>=1.0.2 in /home/carlosb/miniconda3/envs/bot_news_py38/lib/python3.8/site-packages (from spacy>=2.2.2->es_core_news_sm==2.2.5) (1.0.2)\n",
      "Requirement already satisfied: certifi>=2017.4.17 in /home/carlosb/miniconda3/envs/bot_news_py38/lib/python3.8/site-packages (from requests<3.0.0,>=2.13.0->spacy>=2.2.2->es_core_news_sm==2.2.5) (2020.4.5.1)\n",
      "Requirement already satisfied: chardet<4,>=3.0.2 in /home/carlosb/miniconda3/envs/bot_news_py38/lib/python3.8/site-packages (from requests<3.0.0,>=2.13.0->spacy>=2.2.2->es_core_news_sm==2.2.5) (3.0.4)\n",
      "Requirement already satisfied: idna<3,>=2.5 in /home/carlosb/miniconda3/envs/bot_news_py38/lib/python3.8/site-packages (from requests<3.0.0,>=2.13.0->spacy>=2.2.2->es_core_news_sm==2.2.5) (2.9)\n",
      "Requirement already satisfied: urllib3!=1.25.0,!=1.25.1,<1.26,>=1.21.1 in /home/carlosb/miniconda3/envs/bot_news_py38/lib/python3.8/site-packages (from requests<3.0.0,>=2.13.0->spacy>=2.2.2->es_core_news_sm==2.2.5) (1.25.9)\n",
      "Building wheels for collected packages: es-core-news-sm\n",
      "  Building wheel for es-core-news-sm (setup.py) ... \u001b[?25ldone\n",
      "\u001b[?25h  Created wheel for es-core-news-sm: filename=es_core_news_sm-2.2.5-py3-none-any.whl size=16172933 sha256=0dca8a7baae170233e9ee877fb3e57cd2489cee2cf866867db28ff831a3318fd\n",
      "  Stored in directory: /tmp/pip-ephem-wheel-cache-wu7ssyfm/wheels/c3/8a/8d/72ff8366bbd6da27b231ccb909127ac1f945e5de3a29075b25\n",
      "Successfully built es-core-news-sm\n",
      "Installing collected packages: es-core-news-sm\n",
      "Successfully installed es-core-news-sm-2.2.5\n",
      "\u001b[38;5;2m✔ Download and installation successful\u001b[0m\n",
      "You can now load the model via spacy.load('es_core_news_sm')\n"
     ]
    }
   ],
   "source": [
    "!python -m spacy download es_core_news_sm"
   ]
  },
  {
   "cell_type": "code",
   "execution_count": 19,
   "metadata": {},
   "outputs": [],
   "source": [
    "import spacy\n",
    "nlp = spacy.load(\"es_core_news_sm\")"
   ]
  },
  {
   "cell_type": "code",
   "execution_count": 20,
   "metadata": {},
   "outputs": [],
   "source": [
    "import gensim.downloader as api"
   ]
  },
  {
   "cell_type": "code",
   "execution_count": 21,
   "metadata": {},
   "outputs": [
    {
     "name": "stdout",
     "output_type": "stream",
     "text": [
      "[==================================================] 100.0% 104.8/104.8MB downloaded\n"
     ]
    }
   ],
   "source": [
    "model = api.load(\"glove-twitter-25\")"
   ]
  },
  {
   "cell_type": "code",
   "execution_count": 24,
   "metadata": {},
   "outputs": [
    {
     "ename": "ValueError",
     "evalue": "No valid number words found! Please enter a valid number word (eg. two million twenty three thousand and forty nine)",
     "output_type": "error",
     "traceback": [
      "\u001b[0;31m---------------------------------------------------------------------------\u001b[0m",
      "\u001b[0;31mValueError\u001b[0m                                Traceback (most recent call last)",
      "\u001b[0;32m<ipython-input-24-7af2fe1a798c>\u001b[0m in \u001b[0;36m<module>\u001b[0;34m\u001b[0m\n\u001b[1;32m      1\u001b[0m \u001b[0;32mfrom\u001b[0m \u001b[0mword2number\u001b[0m \u001b[0;32mimport\u001b[0m \u001b[0mw2n\u001b[0m\u001b[0;34m\u001b[0m\u001b[0;34m\u001b[0m\u001b[0m\n\u001b[1;32m      2\u001b[0m \u001b[0mdoc\u001b[0m \u001b[0;34m=\u001b[0m \u001b[0mnlp\u001b[0m\u001b[0;34m(\u001b[0m\u001b[0mvisible_text\u001b[0m\u001b[0;34m)\u001b[0m\u001b[0;34m\u001b[0m\u001b[0;34m\u001b[0m\u001b[0m\n\u001b[0;32m----> 3\u001b[0;31m \u001b[0mtokens\u001b[0m \u001b[0;34m=\u001b[0m \u001b[0;34m[\u001b[0m\u001b[0mw2n\u001b[0m\u001b[0;34m.\u001b[0m\u001b[0mword_to_num\u001b[0m\u001b[0;34m(\u001b[0m\u001b[0mtoken\u001b[0m\u001b[0;34m.\u001b[0m\u001b[0mtext\u001b[0m\u001b[0;34m)\u001b[0m \u001b[0;32mif\u001b[0m \u001b[0mtoken\u001b[0m\u001b[0;34m.\u001b[0m\u001b[0mpos_\u001b[0m \u001b[0;34m==\u001b[0m \u001b[0;34m'NUM'\u001b[0m \u001b[0;32melse\u001b[0m \u001b[0mtoken\u001b[0m \u001b[0;32mfor\u001b[0m \u001b[0mtoken\u001b[0m \u001b[0;32min\u001b[0m \u001b[0mdoc\u001b[0m\u001b[0;34m]\u001b[0m\u001b[0;34m\u001b[0m\u001b[0;34m\u001b[0m\u001b[0m\n\u001b[0m\u001b[1;32m      4\u001b[0m \u001b[0;34m\u001b[0m\u001b[0m\n\u001b[1;32m      5\u001b[0m \u001b[0mprint\u001b[0m\u001b[0;34m(\u001b[0m\u001b[0mtokens\u001b[0m\u001b[0;34m)\u001b[0m \u001b[0;31m# result: [3, cups, of, coffee]\u001b[0m\u001b[0;34m\u001b[0m\u001b[0;34m\u001b[0m\u001b[0m\n",
      "\u001b[0;32m<ipython-input-24-7af2fe1a798c>\u001b[0m in \u001b[0;36m<listcomp>\u001b[0;34m(.0)\u001b[0m\n\u001b[1;32m      1\u001b[0m \u001b[0;32mfrom\u001b[0m \u001b[0mword2number\u001b[0m \u001b[0;32mimport\u001b[0m \u001b[0mw2n\u001b[0m\u001b[0;34m\u001b[0m\u001b[0;34m\u001b[0m\u001b[0m\n\u001b[1;32m      2\u001b[0m \u001b[0mdoc\u001b[0m \u001b[0;34m=\u001b[0m \u001b[0mnlp\u001b[0m\u001b[0;34m(\u001b[0m\u001b[0mvisible_text\u001b[0m\u001b[0;34m)\u001b[0m\u001b[0;34m\u001b[0m\u001b[0;34m\u001b[0m\u001b[0m\n\u001b[0;32m----> 3\u001b[0;31m \u001b[0mtokens\u001b[0m \u001b[0;34m=\u001b[0m \u001b[0;34m[\u001b[0m\u001b[0mw2n\u001b[0m\u001b[0;34m.\u001b[0m\u001b[0mword_to_num\u001b[0m\u001b[0;34m(\u001b[0m\u001b[0mtoken\u001b[0m\u001b[0;34m.\u001b[0m\u001b[0mtext\u001b[0m\u001b[0;34m)\u001b[0m \u001b[0;32mif\u001b[0m \u001b[0mtoken\u001b[0m\u001b[0;34m.\u001b[0m\u001b[0mpos_\u001b[0m \u001b[0;34m==\u001b[0m \u001b[0;34m'NUM'\u001b[0m \u001b[0;32melse\u001b[0m \u001b[0mtoken\u001b[0m \u001b[0;32mfor\u001b[0m \u001b[0mtoken\u001b[0m \u001b[0;32min\u001b[0m \u001b[0mdoc\u001b[0m\u001b[0;34m]\u001b[0m\u001b[0;34m\u001b[0m\u001b[0;34m\u001b[0m\u001b[0m\n\u001b[0m\u001b[1;32m      4\u001b[0m \u001b[0;34m\u001b[0m\u001b[0m\n\u001b[1;32m      5\u001b[0m \u001b[0mprint\u001b[0m\u001b[0;34m(\u001b[0m\u001b[0mtokens\u001b[0m\u001b[0;34m)\u001b[0m \u001b[0;31m# result: [3, cups, of, coffee]\u001b[0m\u001b[0;34m\u001b[0m\u001b[0;34m\u001b[0m\u001b[0m\n",
      "\u001b[0;32m~/miniconda3/envs/bot_news_py38/lib/python3.8/site-packages/word2number/w2n.py\u001b[0m in \u001b[0;36mword_to_num\u001b[0;34m(number_sentence)\u001b[0m\n\u001b[1;32m    152\u001b[0m     \u001b[0;31m# Error message if the user enters invalid input!\u001b[0m\u001b[0;34m\u001b[0m\u001b[0;34m\u001b[0m\u001b[0;34m\u001b[0m\u001b[0m\n\u001b[1;32m    153\u001b[0m     \u001b[0;32mif\u001b[0m \u001b[0mlen\u001b[0m\u001b[0;34m(\u001b[0m\u001b[0mclean_numbers\u001b[0m\u001b[0;34m)\u001b[0m \u001b[0;34m==\u001b[0m \u001b[0;36m0\u001b[0m\u001b[0;34m:\u001b[0m\u001b[0;34m\u001b[0m\u001b[0;34m\u001b[0m\u001b[0m\n\u001b[0;32m--> 154\u001b[0;31m         \u001b[0;32mraise\u001b[0m \u001b[0mValueError\u001b[0m\u001b[0;34m(\u001b[0m\u001b[0;34m\"No valid number words found! Please enter a valid number word (eg. two million twenty three thousand and forty nine)\"\u001b[0m\u001b[0;34m)\u001b[0m\u001b[0;34m\u001b[0m\u001b[0;34m\u001b[0m\u001b[0m\n\u001b[0m\u001b[1;32m    155\u001b[0m \u001b[0;34m\u001b[0m\u001b[0m\n\u001b[1;32m    156\u001b[0m     \u001b[0;31m# Error if user enters million,billion, thousand or decimal point twice\u001b[0m\u001b[0;34m\u001b[0m\u001b[0;34m\u001b[0m\u001b[0;34m\u001b[0m\u001b[0m\n",
      "\u001b[0;31mValueError\u001b[0m: No valid number words found! Please enter a valid number word (eg. two million twenty three thousand and forty nine)"
     ]
    }
   ],
   "source": [
    "from word2number import w2n\n",
    "doc = nlp(visible_text)\n",
    "tokens = [w2n.word_to_num(token.text) if token.pos_ == 'NUM' else token for token in doc]\n",
    "\n",
    "print(tokens) # result: [3, cups, of, coffee]"
   ]
  },
  {
   "cell_type": "code",
   "execution_count": 25,
   "metadata": {
    "scrolled": true
   },
   "outputs": [
    {
     "name": "stdout",
     "output_type": "stream",
     "text": [
      "[' \\n\\n\\n\\n\\n\\n\\n\\n\\n\\n\\n\\n\\n\\n\\n\\n\\n\\n\\n\\n\\n\\n\\n\\n\\n\\n\\n', 'Hoy', 'interesar', '\\n\\n', 'Carnes', '\\n\\n\\n', 'Cereales', '\\n\\n\\n', 'Frutas', '\\n\\n\\n', 'Frutos', 'seco', '\\n\\n\\n', 'Legumbres', '\\n\\n\\n', 'Pescados', '\\n\\n\\n', 'Tubérculos', '\\n\\n\\n', 'Verduras', '\\n\\n\\n\\n\\n\\n', 'Mas', '\\n            \\n\\n\\n\\n\\n\\n\\n\\n\\n\\n\\n\\n\\n\\n\\n\\n\\n\\n', 'Secciones', '\\n\\n\\n\\n', 'Al', 'Minuto', '\\n\\n\\n', 'Internacional', '\\n\\n\\n', 'Política', '\\n\\n\\n', 'Vida', '\\n\\n\\n', 'Deportes', '\\n\\n\\n', 'Economía', '\\n\\n\\n', 'Opinión', '\\n\\n\\n', 'Gente', '\\n\\n\\n', 'Cultura', '\\n\\n\\n', 'Sucesos', '\\n\\n\\n', 'Participación', '\\n\\n\\n', 'Blogs', '\\n\\n\\n', 'RCD', 'Espanyol', '\\n\\n\\n', 'Europa', 'Fact', 'Checking', '\\n\\n\\n', 'Suscriptores', '\\n\\n\\n', 'Temas', '\\n\\n\\n\\n\\n\\n', 'Canales', '\\n\\n\\n\\n', 'La', 'Contra', '\\n\\n\\n', 'Natural', '\\n\\n\\n', 'Big', 'Vang', '\\n\\n\\n', 'Salud', '\\n\\n\\n', 'Tecnología', '\\n\\n\\n', 'Televisión', '\\n\\n\\n', 'Series', '\\n\\n\\n', 'Muy', 'Fan', '\\n\\n\\n', 'Cribeo', '\\n\\n\\n', 'Magazine', 'Lifestyle', '\\n\\n\\n', 'Viajes', '\\n\\n\\n', 'Vivo', '\\n\\n\\n', 'Motor', '\\n\\n\\n', 'De', 'Moda', '\\n\\n\\n', 'Comer', '\\n\\n\\n', 'Vivo', 'Seguro', '\\n\\n\\n', 'Canal', 'Andorra', '\\n\\n\\n', 'El', 'Comprador', '\\n\\n\\n', 'Historia', 'y', 'Vida', '\\n\\n\\n\\n\\n\\n', 'Ediciones', 'local', '\\n\\n\\n\\n', 'Madrid', '\\n\\n\\n', 'Barcelona', '\\n\\n\\n', 'Catalunya', '\\n\\n\\n', 'Andalucía', '\\n\\n\\n', 'Comunidad', 'Valenciana', '\\n\\n\\n', 'País', 'Vasco', '\\n\\n\\n', 'Ver', 'más', '\\n\\n\\n\\n\\n\\n', 'Suplementos', '\\n\\n\\n\\n', 'Cultura|S', '\\n\\n\\n', 'Vanguardia', 'Dossier', '\\n\\n\\n', 'Vanguardia', 'Grandes', 'Temas', '\\n\\n\\n', 'Libros', 'de', 'Vanguardia', '\\n\\n\\n', 'Clasificados', '\\n\\n\\n', 'Monográficos', '\\n\\n\\n', 'Canal', 'Relojes', '\\n\\n\\n\\n\\n\\n', 'Servicios', '\\n\\n\\n\\n\\n\\n', 'Edició', 'en', 'català', '\\n\\n\\n', 'Edición', 'Impresa', '\\n\\n\\n', 'Hemeroteca', '\\n\\n\\n', 'Bolsa', '\\n\\n\\n', 'Programación', 'TV', '\\n\\n\\n', 'Loterías', '\\n\\n\\n', 'Horóscopo', '\\n\\n\\n', 'Juegos', '\\n\\n\\n\\n\\n\\n\\n', 'Cartelera', '\\n\\n\\n', 'Agenda', '\\n\\n\\n', 'Junior', 'Report', '\\n\\n\\n', 'RSS', '\\n\\n\\n', 'Necrológicas', 'y', 'esquela', '\\n\\n\\n', 'Gourmet', 'La', 'Vanguardia', '\\n\\n\\n', 'LV', 'Shopping', '\\n\\n\\n', 'Entradas', 'de', 'Vanguardia', '\\n\\n\\n', 'Pistas', 'de', 'esquí', '\\n\\n\\n\\n\\n\\n\\n\\n\\n\\n\\n\\n\\n\\n', 'header_logo_text', '\\n\\n\\n\\n\\n\\n\\n\\n\\n\\n\\n\\n\\n\\n\\n\\n\\n\\n\\n\\n\\n\\n\\n\\n\\n\\n\\n\\n\\n\\n\\n\\n\\n\\n\\n\\n\\n\\n\\n\\n', 'Al', 'día', '\\n\\n\\n', 'Opinión', '\\n\\n\\n', 'sitio', '\\n\\n\\n', 'tendencia', '\\n\\n\\n', 'Materia', 'Prima', '\\n\\n\\n', 'recetar', '\\n\\n\\n', 'de', 'carne', 'y', 'hueso', '\\n\\n\\n', 'videos', '\\n\\n\\n\\n\\n\\n\\n\\n\\n\\n\\n\\n\\n\\n\\n\\n\\n\\n\\n\\n\\n\\n\\n\\n\\n\\n\\n', 'Recetas', '\\n\\n\\n', 'Preparar', 'este', 'irresistible', 'sándwich', 'cubanito', 'ser', '‘', 'Así', 'de', 'fácil', '’', '\\n\\n\\n', 'Un', 'plato', 'sencillo', 'pero', 'muy', 'apetitoso', '\\n', 'Preparar', 'este', 'apetitoso', 'tarta', 'de', 'fresar', 'ser', '‘', 'Así', 'de', 'fácil', '’', '\\n\\n\\n\\n\\n\\n\\n\\n ', 'Video', '\\n            \\n\\n\\n\\n\\n\\n\\n\\n\\n\\n\\n\\n\\n\\n\\n\\n\\n\\n\\n\\n', 'COMER', '\\n\\n\\n', 'Actualizado', 'a', ' ', '16/03/2020', '10:23', '\\n\\n\\n\\n\\n', 'Esta', 'semana', 'Eugeni', 'de', 'Diego', 'no', 'enseñar', 'a', 'preparar', 'uno', 'recetar', 'fácil', ',', 'sencillo', 'y', 'muy', 'apetitoso', '.', 'Un', 'sándwich', 'cubanito', 'de', 'primero', 'calidad', 'con', 'el', 'que', 'conseguir', 'sorprender', 'a', 'cualquiera', 'afortunado', 'que', 'el', 'probar', '.', '¿', 'Quieres', 'saber', 'cómo', '?', 'Sigue', 'lo', 'recetar', 'que', 'encontrar', 'a', 'continuación', '.', '\\n\\n', 'Cubanito', '\\n', 'Ingredientes', '>', '200', 'gramo', 'de', 'carne', 'de', 'cerdo', '\\n', '>', 'salir', 'y', 'pimientare', '\\n', '>', '1', ' ', 'naranja', '\\n', 'de', 'zumo', '\\n', '>', '50', 'gramo', 'aceitar', 'de', 'olivar', '\\n', '>', '1', 'barrer', 'de', 'pan', 'tipo', 'baguette', 'o', 'viena', '\\n', '>', '80', 'gramo', 'queso', 'suizo', '\\n', '>', '70', 'gramo', 'jamón', 'York', '\\n', '>', '30', 'gramo', 'pepinillo', 'encurtir', '\\n', '>', '20', 'gramo', 'mostaza', 'Savora', '\\n', '>', 'Mantequilla', '\\n\\n', 'La', 'recetar', '\\n', 'Elaboración', '\\n\\n\\n\\n\\n', '1', '.', 'Disponer', 'lo', 'carne', 'en', 'uno', 'bandeja', ',', 'salpimentar', '.', '\\n', '2', '.', 'Exprimir', 'zumo', 'de', 'naranja', 'sobrar', 'lo', 'carne', '.', '\\n', '3', '.', 'Rociar', 'lo', 'carne', 'con', 'aceitar', 'de', 'olivar', '.', 'Hornear', 'durante', '1', 'hora', 'a', '180', 'º', 'C.', '\\n', '4', '.', 'Cortar', 'lo', 'carne', 'en', 'trozo', 'delgado', '.', '\\n', '5', '.', 'Cortar', 'lo', 'baguette', 'a', 'lo', 'mitad', ',', 'en', 'uno', 'de', 'los', 'mitad', 'disponer', 'el', 'queso', ',', 'lo', 'trozo', 'de', 'carne', ',', 'el', 'jamón', 'york', 'y', 'lo', 'pepinillo', '.', '\\n', '6', '.', 'En', 'lo', 'otro', 'mitad', 'de', 'lo', 'baguette', ',', 'disponer', 'lo', 'mostaza', 'a', 'gustar', 'y', 'cerrar', 'el', 'bocadillo', '.', '\\n', '7', '.', 'Calentar', 'lo', 'planchar', '.', 'Cubrir', 'con', 'mantequilla', 'y', 'planchar', 'el', 'bocadillo', '.', '\\n', '8', '.', 'Cortar', 'el', 'bocadillo', 'por', 'lo', 'mitad', 'y', 'servir', '.', '\\n\\n\\n\\n\\n\\n\\n\\n\\n\\n\\n\\n\\n\\n\\n\\n\\n\\n', 'Al', 'minutar', '\\n', 'Coronavirus', 'en', 'Gijón', ':', 'Última', 'hora', 'de', 'lo', 'afectar', 'y', 'de', 'lo', 'desescalada', 'en', 'Asturias', '\\n', 'Trump', 'se', 'mostrar', '“', 'contentar', '”', 'por', 'lo', 'volver', 'de', ' ', 'Kim', 'Jong', 'uno', ',', 'a', 'quien', 'ver', '“', 'bien', '”', '\\n', 'Ter', 'Stegen', ':', '“', 'Estoy', 'muy', 'feliz', 'en', 'Barcelona', '”', '\\n', 'Arrimadas', 'llamar', 'a', 'que', 'el', 'coronavirus', '“', 'no', 'ser', 'uno', 'oportunidad', 'parir', 'el', 'nacionalismo', '”', '\\n', 'Los', 'fallecido', 'en', '24', 'hora', 'descender', 'hasta', '164', 'en', 'España', '\\n', '¿', 'Qué', 'tipo', 'de', 'mascarilla', 'necesitar', 'según', 'mi', 'situación', '?', '\\n\\n\\n\\n\\n\\n\\n', 'Leer', 'comentario', '\\n\\n\\n', '{', '\"', 'collectionMeta\":\"eyJ0eXAiOiJKV1QiLCJhbGciOiJIUzI1NiJ9.eyJ0eXBlIjoibGl2ZWNvbW1lbnRzIiwiYXJ0aWNsZUlkIjoiMmMwMTdkMDgtNjUxNS0xMWVhLTgwNGItMTdkYzQwMjc2MWViIiwidGl0bGUiOiJQcmVwYXJhciBlc3RlIGlycmVzaXN0aWJsZSBzXHUwMGUxbmR3aWNoIGN1YmFuaXRvIGVzIFx1MjAxOEFzXHUwMGVkIGRlIGZcdTAwZTFjaWxcdTIwMTkiLCJ1cmwiOiJodHRwczpcL1wvd3d3LmxhdmFuZ3VhcmRpYS5jb21cL2NvbWVyXC9yZWNldGFzXC8yMDIwMDMxNVwvNDc0MTA3MjgyMzkxXC9zYW5kd2ljaC1jdWJhbml0by1hc2ktZGUtZmFjaWwtYm9jYWRpbGxvLXNvZmlzdGljYWRvLWV1Z2VuaS5odG1sIiwidGFncyI6WyJzdG9yeSIsIlwvY29tZXIiLCJsYVZhbmd1YXJkaWEiXSwiaXNzIjoidXJuOmxpdmVmeXJlOmdydXBvZ29kbzEuZnlyZS5jbzpzaXRlPTM1MTExMiJ9.xEkF0CqQ', '--', 'FrYz59MxZlHGupJVV4vBDvEGAuM8rtZT8\",\"checkSum\":\"1dc942fcd45564e702eaf236e36fb286\",\"allowComment\":\"allowed\",\"netId\":\"2c017d08', '-', '6515', '-', '11ea-804b-17dc402761eb\",\"networkName\":\"grupogodo1.fyre.co\",\"siteId\":351112', '}', '\\n\\n\\n\\n\\n\\n\\n\\n\\n\\n\\n\\n\\n\\n\\n\\n\\n\\n\\n\\n\\n\\n\\n\\n\\n\\n\\n\\n\\n\\n\\n', 'Comer', '\\n\\n\\n\\n\\n\\n', 'Recetas', '\\n\\n\\n\\n\\n\\n\\n\\n\\n\\n\\n\\n\\n\\n\\n\\n\\n\\n\\n', '©', 'La', 'Vanguardia', 'Ediciones', 'Todos', 'lo', 'derecho', 'reservar', '\\n\\n\\n\\n\\n\\n\\n\\n\\n\\n\\n\\n', 'Quiénes', 'ser', '\\n\\n\\n', 'Contacto', '\\n\\n\\n', 'Aviso', 'legal', '\\n\\n\\n', 'Ayuda', '\\n\\n\\n', 'Política', 'de', 'cookies', '\\n\\n\\n', 'Otras', 'web', '\\n\\n\\n', 'Política', 'de', 'privacidad', '\\n\\n\\n', 'Área', 'de', 'privacidad', '\\n\\n\\n\\n\\n\\n\\n\\n\\n\\n\\n\\n\\n\\n\\n\\n\\n\\n']\n"
     ]
    }
   ],
   "source": [
    "\n",
    "doc = nlp(visible_text)\n",
    "# Lemmatizing each token\n",
    "mytokens = [word.lemma_ if word.lemma_ != \"-PRON-\" else word.lower_ for word in doc]\n",
    "print(mytokens) \n",
    "# result: ['he', 'keep', 'eat', 'while', 'we', 'be', 'talk']"
   ]
  },
  {
   "cell_type": "code",
   "execution_count": null,
   "metadata": {},
   "outputs": [],
   "source": []
  }
 ],
 "metadata": {
  "kernelspec": {
   "display_name": "Python 3",
   "language": "python",
   "name": "python3"
  },
  "language_info": {
   "codemirror_mode": {
    "name": "ipython",
    "version": 3
   },
   "file_extension": ".py",
   "mimetype": "text/x-python",
   "name": "python",
   "nbconvert_exporter": "python",
   "pygments_lexer": "ipython3",
   "version": "3.8.2"
  }
 },
 "nbformat": 4,
 "nbformat_minor": 2
}
